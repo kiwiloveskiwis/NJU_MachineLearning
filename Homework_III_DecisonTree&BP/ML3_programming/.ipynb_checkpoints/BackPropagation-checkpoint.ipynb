{
 "cells": [
  {
   "cell_type": "code",
   "execution_count": 22,
   "metadata": {
    "collapsed": false
   },
   "outputs": [
    {
     "data": {
      "text/plain": [
       "{'divide': 'raise', 'invalid': 'warn', 'over': 'raise', 'under': 'ignore'}"
      ]
     },
     "execution_count": 22,
     "metadata": {},
     "output_type": "execute_result"
    }
   ],
   "source": [
    "import numpy as np\n",
    "from numpy import seterr\n",
    "from numpy import transpose as trans\n",
    "from numpy import matmul as mmul\n",
    "import sklearn\n",
    "from sklearn import linear_model\n",
    "import random, sys, time\n",
    "np.seterr(over='raise', under='ignore', divide='raise')"
   ]
  },
  {
   "cell_type": "code",
   "execution_count": 11,
   "metadata": {
    "collapsed": false
   },
   "outputs": [],
   "source": [
    "data = np.genfromtxt('train_data.csv', delimiter = ',')\n",
    "data = sklearn.preprocessing.normalize(data)\n",
    "target = np.genfromtxt('train_targets.csv', delimiter = ',') # (3000, )\n",
    "data_hat = np.append(data, np.ones([data.shape[0], 1]), 1)\n",
    "\n",
    "test_data = np.genfromtxt('test_data.csv', delimiter = ',')\n",
    "test_data = sklearn.preprocessing.normalize(test_data)\n",
    "test_targets = np.genfromtxt('test_targets.csv', delimiter = ',')"
   ]
  },
  {
   "cell_type": "code",
   "execution_count": 12,
   "metadata": {
    "collapsed": false
   },
   "outputs": [
    {
     "data": {
      "text/plain": [
       "(1000,)"
      ]
     },
     "execution_count": 12,
     "metadata": {},
     "output_type": "execute_result"
    }
   ],
   "source": [
    "test_targets.shape"
   ]
  },
  {
   "cell_type": "code",
   "execution_count": 13,
   "metadata": {
    "collapsed": true
   },
   "outputs": [],
   "source": [
    "def sigmoid(x):\n",
    "    max_elem = np.max(-x) \n",
    "    try: \n",
    "        res = -(np.log(np.exp(0 - max_elem) + np.exp(- x - max_elem)) + max_elem ) # Only underflow could happen\n",
    "        res = np.exp(res)\n",
    "    except Exception as e:\n",
    "        res = 0\n",
    "    return res"
   ]
  },
  {
   "cell_type": "code",
   "execution_count": 14,
   "metadata": {
    "collapsed": false
   },
   "outputs": [],
   "source": [
    "def gen_weight(d, q): #  d+1 * q\n",
    "    theta1 = (np.random.rand(d, q) - 0.5) / 10\n",
    "    # theta1 = np.append(theta1, np.zeros([1, q]), 0)\n",
    "    return theta1\n",
    "#gen_weight(3,2)"
   ]
  },
  {
   "cell_type": "code",
   "execution_count": 15,
   "metadata": {
    "collapsed": false
   },
   "outputs": [],
   "source": [
    "def hypo(x, w, gamma):\n",
    "    return (sigmoid(np.matmul(x, w) - gamma))"
   ]
  },
  {
   "cell_type": "code",
   "execution_count": 16,
   "metadata": {
    "collapsed": true
   },
   "outputs": [],
   "source": [
    "def g(y, y_hat):\n",
    "    return (y - y_hat) * y_hat * (1 - y_hat)"
   ]
  },
  {
   "cell_type": "code",
   "execution_count": 17,
   "metadata": {
    "collapsed": false
   },
   "outputs": [],
   "source": [
    "def e(b, w, g):\n",
    "    # print('b:', b.shape, ' w: ',  w.shape, ' g: ', g.shape) # b: (1, 100)  w:  (100, 10)  g:  (1, 10)\n",
    "    \n",
    "    e_temp = b*(1-b) * mmul(g, trans(w)) # \n",
    "    # print('e :', e_temp.shape)\n",
    "    return e_temp # 1, q = 100"
   ]
  },
  {
   "cell_type": "code",
   "execution_count": 18,
   "metadata": {
    "collapsed": true
   },
   "outputs": [],
   "source": [
    "def cal_y_hat(x, v, gamma, w, theta):\n",
    "    b = hypo(x, v, gamma)\n",
    "    y_hat = hypo(b, w, theta)\n",
    "    #print(y_hat[5:155])\n",
    "    return trans(y_hat.argmax(axis=1)) # m, 1"
   ]
  },
  {
   "cell_type": "code",
   "execution_count": 19,
   "metadata": {
    "collapsed": false
   },
   "outputs": [],
   "source": [
    "def cost(x, v, gamma, w, theta, y): \n",
    "    y_result = cal_y_hat(x, v, gamma, w, theta)\n",
    "    #print(y_result[5:155])\n",
    "    return np.count_nonzero(abs(np.round(y_result - y)))"
   ]
  },
  {
   "cell_type": "code",
   "execution_count": 20,
   "metadata": {
    "collapsed": false
   },
   "outputs": [],
   "source": [
    "def update(x, v, gamma, w, theta,  y):\n",
    "    b = hypo(x, v, gamma) # 1, q\n",
    "    # print('b', b.shape)\n",
    "    y_hat = hypo(b, w, theta)\n",
    "    # print('y_hat:', y_hat.shape) # 1, k\n",
    "    g_temp = g(y, y_hat)\n",
    "    w += learn_rate * mmul(trans(b), g_temp) # q, k\n",
    "    theta += -learn_rate * g_temp # 1, k\n",
    "    \n",
    "    \n",
    "    e_temp = e(b, w, g_temp) # 1, q\n",
    "    # print('e.shape = ', e_temp.shape)\n",
    "    v += learn_rate * mmul(trans(x).reshape(len(x), 1), e_temp) # d, q = (1, d)' * (1, q)\n",
    "    \n",
    "    gamma += -learn_rate * e_temp\n",
    "    return v, gamma, w, theta, y_hat"
   ]
  },
  {
   "cell_type": "code",
   "execution_count": 27,
   "metadata": {
    "collapsed": false,
    "scrolled": true
   },
   "outputs": [
    {
     "name": "stdout",
     "output_type": "stream",
     "text": [
      "0\n"
     ]
    },
    {
     "name": "stderr",
     "output_type": "stream",
     "text": [
      "/Users/kiwi/anaconda3/lib/python3.6/site-packages/ipykernel/__main__.py:22: VisibleDeprecationWarning: using a non-integer number instead of an integer will result in an error in the future\n"
     ]
    },
    {
     "name": "stdout",
     "output_type": "stream",
     "text": [
      "100\n",
      "Train error: 134\n",
      "Test error: 84\n",
      "--- 123.95683932304382 seconds ---\n"
     ]
    }
   ],
   "source": [
    "# Init \n",
    "\n",
    "(m, d) = data.shape\n",
    "q = 100 # number of hidden nodes\n",
    "k = 10 # number of classes\n",
    "learn_rate = 0.1\n",
    "x = data\n",
    "y = target\n",
    "\n",
    "v = gen_weight(d, q) # d , q\n",
    "gamma = np.zeros([1, q])\n",
    "w = gen_weight(q, k) # q , k\n",
    "theta = np.zeros([1, k])\n",
    "\n",
    "iter = 150\n",
    "start_time = time.time()\n",
    "\n",
    "for j in range(iter):\n",
    "    if(j % 100 == 0): print(j)\n",
    "    for i in range(x.shape[0]):\n",
    "        y_scalar = np.zeros([1, k])\n",
    "        y_scalar[:,y[i]] = 1\n",
    "        v, gamma, w, theta, y_hat = update(x = x[i, :], v = v, gamma = gamma, w = w, theta = theta, y = y_scalar)\n",
    "\n",
    "\n",
    "print('Train error:' , cost(x, v, gamma, w, theta,  y))\n",
    "print('Test error:' , cost(test_data, v, gamma, w, theta,  test_targets))\n",
    "print(\"--- %s seconds ---\" % (time.time() - start_time))\n",
    "test_pred = cal_y_hat(test_data, v, gamma, w, theta)\n",
    "np.savetxt('test_predictions.csv', test_pred, \"%d\", delimiter=',')"
   ]
  },
  {
   "cell_type": "code",
   "execution_count": null,
   "metadata": {
    "collapsed": true
   },
   "outputs": [],
   "source": []
  }
 ],
 "metadata": {
  "kernelspec": {
   "display_name": "Python 3",
   "language": "python",
   "name": "python3"
  },
  "language_info": {
   "codemirror_mode": {
    "name": "ipython",
    "version": 3
   },
   "file_extension": ".py",
   "mimetype": "text/x-python",
   "name": "python",
   "nbconvert_exporter": "python",
   "pygments_lexer": "ipython3",
   "version": "3.6.0"
  }
 },
 "nbformat": 4,
 "nbformat_minor": 2
}
