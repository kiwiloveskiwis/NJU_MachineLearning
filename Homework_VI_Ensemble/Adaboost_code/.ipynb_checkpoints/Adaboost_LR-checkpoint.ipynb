{
 "cells": [
  {
   "cell_type": "code",
   "execution_count": 1,
   "metadata": {
    "collapsed": true
   },
   "outputs": [],
   "source": [
    "import numpy as np\n",
    "from sklearn.model_selection import KFold\n",
    "from sklearn.preprocessing import normalize\n",
    "from sklearn.linear_model import LogisticRegression"
   ]
  },
  {
   "cell_type": "code",
   "execution_count": 2,
   "metadata": {
    "collapsed": false
   },
   "outputs": [],
   "source": [
    "data = np.genfromtxt('data.csv',delimiter=',') # (476, 166)\n",
    "target = np.genfromtxt('targets.csv') # (476,)\n",
    "target[target == 0] = -1 # transform"
   ]
  },
  {
   "cell_type": "code",
   "execution_count": 3,
   "metadata": {
    "collapsed": false,
    "scrolled": true
   },
   "outputs": [
    {
     "data": {
      "text/plain": [
       "10"
      ]
     },
     "execution_count": 3,
     "metadata": {},
     "output_type": "execute_result"
    }
   ],
   "source": [
    "kf = KFold(n_splits=10)\n",
    "kf.get_n_splits(data)"
   ]
  },
  {
   "cell_type": "code",
   "execution_count": 13,
   "metadata": {
    "collapsed": false
   },
   "outputs": [
    {
     "name": "stdout",
     "output_type": "stream",
     "text": [
      "Breaked in base_num = 100, fold = 25\n",
      "Breaked in base_num = 100, fold = 37\n",
      "Breaked in base_num = 100, fold = 40\n",
      "Breaked in base_num = 100, fold = 46\n",
      "Breaked in base_num = 100, fold = 28\n",
      "Breaked in base_num = 100, fold = 42\n",
      "Breaked in base_num = 100, fold = 32\n",
      "Breaked in base_num = 100, fold = 50\n",
      "Breaked in base_num = 100, fold = 91\n"
     ]
    }
   ],
   "source": [
    "for learner_num in [1, 5, 10, 100]:\n",
    "    for k, (train_idx, test_idx) in enumerate(kf.split(data, target)):\n",
    "        X, y = data[train_idx, :], target[train_idx]\n",
    "        Xt, yt = data[test_idx, :], target[test_idx]\n",
    "        sample_weight = np.ones(y.shape) / len(y)\n",
    "\n",
    "        base_classifiers = []\n",
    "        alpha = []\n",
    "        for i in range(learner_num):\n",
    "            base_classifiers.append(LogisticRegression(C=1000).fit(X, y, sample_weight))\n",
    "            score = base_classifiers[i].score(X, y, sample_weight)\n",
    "            if score <= 0.5:\n",
    "                print(\"Breaked in base_num = %d, fold = %d\"%(learner_num, i))\n",
    "                break\n",
    "            alpha.append(np.log((score) / (1 - score)) / 2)\n",
    "            h = base_classifiers[i].predict(X)\n",
    "            sample_weight *= np.exp(-alpha[i] * h * y)\n",
    "            sample_weight /= np.sum(sample_weight)\n",
    "        y_pred = np.zeros(yt.shape)\n",
    "        for i in range(len(alpha)):\n",
    "                y_pred += alpha[i] * base_classifiers[i].predict(Xt)\n",
    "        y_pred[y_pred > 0] = 1\n",
    "        y_pred[y_pred <= 0] = 0\n",
    "        to_save = np.dstack((test_idx + 1 , y_pred))[0]\n",
    "        np.savetxt('experiments/base%d_fold%d.csv'%(learner_num , k + 1), to_save, '%d, %d', delimiter=',')"
   ]
  },
  {
   "cell_type": "code",
   "execution_count": null,
   "metadata": {
    "collapsed": true
   },
   "outputs": [],
   "source": []
  }
 ],
 "metadata": {
  "kernelspec": {
   "display_name": "Python 3",
   "language": "python",
   "name": "python3"
  },
  "language_info": {
   "codemirror_mode": {
    "name": "ipython",
    "version": 3
   },
   "file_extension": ".py",
   "mimetype": "text/x-python",
   "name": "python",
   "nbconvert_exporter": "python",
   "pygments_lexer": "ipython3",
   "version": "3.5.3"
  }
 },
 "nbformat": 4,
 "nbformat_minor": 2
}
